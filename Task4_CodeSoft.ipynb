{
 "cells": [
  {
   "cell_type": "markdown",
   "id": "26fa8cbf-99d5-481c-9e77-7bb5d9a5b49b",
   "metadata": {
    "tags": []
   },
   "source": [
    "Sales Prediction\n",
    "------------------"
   ]
  },
  {
   "cell_type": "code",
   "execution_count": 1,
   "id": "b41ebaf3-a334-44c0-9d6e-86f18189f43c",
   "metadata": {
    "tags": []
   },
   "outputs": [],
   "source": [
    "import pandas as pd\n",
    "import numpy as np\n",
    "import seaborn as sns\n",
    "import matplotlib.pyplot as plt"
   ]
  },
  {
   "cell_type": "code",
   "execution_count": 2,
   "id": "0dc8d4ea-9d7b-4bd7-87a0-29311ca793a1",
   "metadata": {
    "tags": []
   },
   "outputs": [],
   "source": [
    "data_adv=pd.read_csv(r\"C:\\Users\\dvkin\\Downloads\\advertising.csv\", encoding = 'ISO-8859-1')"
   ]
  },
  {
   "cell_type": "code",
   "execution_count": 3,
   "id": "040315fe-f314-419f-98fd-a8d4056f6031",
   "metadata": {
    "tags": []
   },
   "outputs": [
    {
     "data": {
      "text/html": [
       "<div>\n",
       "<style scoped>\n",
       "    .dataframe tbody tr th:only-of-type {\n",
       "        vertical-align: middle;\n",
       "    }\n",
       "\n",
       "    .dataframe tbody tr th {\n",
       "        vertical-align: top;\n",
       "    }\n",
       "\n",
       "    .dataframe thead th {\n",
       "        text-align: right;\n",
       "    }\n",
       "</style>\n",
       "<table border=\"1\" class=\"dataframe\">\n",
       "  <thead>\n",
       "    <tr style=\"text-align: right;\">\n",
       "      <th></th>\n",
       "      <th>TV</th>\n",
       "      <th>Radio</th>\n",
       "      <th>Newspaper</th>\n",
       "      <th>Sales</th>\n",
       "    </tr>\n",
       "  </thead>\n",
       "  <tbody>\n",
       "    <tr>\n",
       "      <th>0</th>\n",
       "      <td>230.1</td>\n",
       "      <td>37.8</td>\n",
       "      <td>69.2</td>\n",
       "      <td>22.1</td>\n",
       "    </tr>\n",
       "    <tr>\n",
       "      <th>1</th>\n",
       "      <td>44.5</td>\n",
       "      <td>39.3</td>\n",
       "      <td>45.1</td>\n",
       "      <td>10.4</td>\n",
       "    </tr>\n",
       "    <tr>\n",
       "      <th>2</th>\n",
       "      <td>17.2</td>\n",
       "      <td>45.9</td>\n",
       "      <td>69.3</td>\n",
       "      <td>12.0</td>\n",
       "    </tr>\n",
       "    <tr>\n",
       "      <th>3</th>\n",
       "      <td>151.5</td>\n",
       "      <td>41.3</td>\n",
       "      <td>58.5</td>\n",
       "      <td>16.5</td>\n",
       "    </tr>\n",
       "    <tr>\n",
       "      <th>4</th>\n",
       "      <td>180.8</td>\n",
       "      <td>10.8</td>\n",
       "      <td>58.4</td>\n",
       "      <td>17.9</td>\n",
       "    </tr>\n",
       "  </tbody>\n",
       "</table>\n",
       "</div>"
      ],
      "text/plain": [
       "      TV  Radio  Newspaper  Sales\n",
       "0  230.1   37.8       69.2   22.1\n",
       "1   44.5   39.3       45.1   10.4\n",
       "2   17.2   45.9       69.3   12.0\n",
       "3  151.5   41.3       58.5   16.5\n",
       "4  180.8   10.8       58.4   17.9"
      ]
     },
     "execution_count": 3,
     "metadata": {},
     "output_type": "execute_result"
    }
   ],
   "source": [
    "data_adv.head()"
   ]
  },
  {
   "cell_type": "code",
   "execution_count": 4,
   "id": "18fee9b6-8dcd-499b-93b7-e391c07b74a8",
   "metadata": {
    "tags": []
   },
   "outputs": [
    {
     "data": {
      "text/html": [
       "<div>\n",
       "<style scoped>\n",
       "    .dataframe tbody tr th:only-of-type {\n",
       "        vertical-align: middle;\n",
       "    }\n",
       "\n",
       "    .dataframe tbody tr th {\n",
       "        vertical-align: top;\n",
       "    }\n",
       "\n",
       "    .dataframe thead th {\n",
       "        text-align: right;\n",
       "    }\n",
       "</style>\n",
       "<table border=\"1\" class=\"dataframe\">\n",
       "  <thead>\n",
       "    <tr style=\"text-align: right;\">\n",
       "      <th></th>\n",
       "      <th>TV</th>\n",
       "      <th>Radio</th>\n",
       "      <th>Newspaper</th>\n",
       "      <th>Sales</th>\n",
       "    </tr>\n",
       "  </thead>\n",
       "  <tbody>\n",
       "    <tr>\n",
       "      <th>195</th>\n",
       "      <td>38.2</td>\n",
       "      <td>3.7</td>\n",
       "      <td>13.8</td>\n",
       "      <td>7.6</td>\n",
       "    </tr>\n",
       "    <tr>\n",
       "      <th>196</th>\n",
       "      <td>94.2</td>\n",
       "      <td>4.9</td>\n",
       "      <td>8.1</td>\n",
       "      <td>14.0</td>\n",
       "    </tr>\n",
       "    <tr>\n",
       "      <th>197</th>\n",
       "      <td>177.0</td>\n",
       "      <td>9.3</td>\n",
       "      <td>6.4</td>\n",
       "      <td>14.8</td>\n",
       "    </tr>\n",
       "    <tr>\n",
       "      <th>198</th>\n",
       "      <td>283.6</td>\n",
       "      <td>42.0</td>\n",
       "      <td>66.2</td>\n",
       "      <td>25.5</td>\n",
       "    </tr>\n",
       "    <tr>\n",
       "      <th>199</th>\n",
       "      <td>232.1</td>\n",
       "      <td>8.6</td>\n",
       "      <td>8.7</td>\n",
       "      <td>18.4</td>\n",
       "    </tr>\n",
       "  </tbody>\n",
       "</table>\n",
       "</div>"
      ],
      "text/plain": [
       "        TV  Radio  Newspaper  Sales\n",
       "195   38.2    3.7       13.8    7.6\n",
       "196   94.2    4.9        8.1   14.0\n",
       "197  177.0    9.3        6.4   14.8\n",
       "198  283.6   42.0       66.2   25.5\n",
       "199  232.1    8.6        8.7   18.4"
      ]
     },
     "execution_count": 4,
     "metadata": {},
     "output_type": "execute_result"
    }
   ],
   "source": [
    "data_adv.tail()"
   ]
  },
  {
   "cell_type": "code",
   "execution_count": 5,
   "id": "24c0a924-1d76-40c9-84ce-c405f5670840",
   "metadata": {
    "tags": []
   },
   "outputs": [
    {
     "data": {
      "text/plain": [
       "Index(['TV', 'Radio', 'Newspaper', 'Sales'], dtype='object')"
      ]
     },
     "execution_count": 5,
     "metadata": {},
     "output_type": "execute_result"
    }
   ],
   "source": [
    "data_adv.columns"
   ]
  },
  {
   "cell_type": "code",
   "execution_count": 6,
   "id": "44253d09-a87f-4940-889a-375eb22f21d9",
   "metadata": {
    "tags": []
   },
   "outputs": [
    {
     "data": {
      "text/html": [
       "<div>\n",
       "<style scoped>\n",
       "    .dataframe tbody tr th:only-of-type {\n",
       "        vertical-align: middle;\n",
       "    }\n",
       "\n",
       "    .dataframe tbody tr th {\n",
       "        vertical-align: top;\n",
       "    }\n",
       "\n",
       "    .dataframe thead th {\n",
       "        text-align: right;\n",
       "    }\n",
       "</style>\n",
       "<table border=\"1\" class=\"dataframe\">\n",
       "  <thead>\n",
       "    <tr style=\"text-align: right;\">\n",
       "      <th></th>\n",
       "      <th>TV</th>\n",
       "      <th>Radio</th>\n",
       "      <th>Newspaper</th>\n",
       "      <th>Sales</th>\n",
       "    </tr>\n",
       "  </thead>\n",
       "  <tbody>\n",
       "    <tr>\n",
       "      <th>count</th>\n",
       "      <td>200.000000</td>\n",
       "      <td>200.000000</td>\n",
       "      <td>200.000000</td>\n",
       "      <td>200.000000</td>\n",
       "    </tr>\n",
       "    <tr>\n",
       "      <th>mean</th>\n",
       "      <td>147.042500</td>\n",
       "      <td>23.264000</td>\n",
       "      <td>30.554000</td>\n",
       "      <td>15.130500</td>\n",
       "    </tr>\n",
       "    <tr>\n",
       "      <th>std</th>\n",
       "      <td>85.854236</td>\n",
       "      <td>14.846809</td>\n",
       "      <td>21.778621</td>\n",
       "      <td>5.283892</td>\n",
       "    </tr>\n",
       "    <tr>\n",
       "      <th>min</th>\n",
       "      <td>0.700000</td>\n",
       "      <td>0.000000</td>\n",
       "      <td>0.300000</td>\n",
       "      <td>1.600000</td>\n",
       "    </tr>\n",
       "    <tr>\n",
       "      <th>25%</th>\n",
       "      <td>74.375000</td>\n",
       "      <td>9.975000</td>\n",
       "      <td>12.750000</td>\n",
       "      <td>11.000000</td>\n",
       "    </tr>\n",
       "    <tr>\n",
       "      <th>50%</th>\n",
       "      <td>149.750000</td>\n",
       "      <td>22.900000</td>\n",
       "      <td>25.750000</td>\n",
       "      <td>16.000000</td>\n",
       "    </tr>\n",
       "    <tr>\n",
       "      <th>75%</th>\n",
       "      <td>218.825000</td>\n",
       "      <td>36.525000</td>\n",
       "      <td>45.100000</td>\n",
       "      <td>19.050000</td>\n",
       "    </tr>\n",
       "    <tr>\n",
       "      <th>max</th>\n",
       "      <td>296.400000</td>\n",
       "      <td>49.600000</td>\n",
       "      <td>114.000000</td>\n",
       "      <td>27.000000</td>\n",
       "    </tr>\n",
       "  </tbody>\n",
       "</table>\n",
       "</div>"
      ],
      "text/plain": [
       "               TV       Radio   Newspaper       Sales\n",
       "count  200.000000  200.000000  200.000000  200.000000\n",
       "mean   147.042500   23.264000   30.554000   15.130500\n",
       "std     85.854236   14.846809   21.778621    5.283892\n",
       "min      0.700000    0.000000    0.300000    1.600000\n",
       "25%     74.375000    9.975000   12.750000   11.000000\n",
       "50%    149.750000   22.900000   25.750000   16.000000\n",
       "75%    218.825000   36.525000   45.100000   19.050000\n",
       "max    296.400000   49.600000  114.000000   27.000000"
      ]
     },
     "execution_count": 6,
     "metadata": {},
     "output_type": "execute_result"
    }
   ],
   "source": [
    "data_adv.describe()"
   ]
  },
  {
   "cell_type": "code",
   "execution_count": 7,
   "id": "ef4b98d6-4608-42ce-a9bf-01d090548518",
   "metadata": {
    "tags": []
   },
   "outputs": [
    {
     "data": {
      "text/plain": [
       "(200, 4)"
      ]
     },
     "execution_count": 7,
     "metadata": {},
     "output_type": "execute_result"
    }
   ],
   "source": [
    "data_adv.shape"
   ]
  },
  {
   "cell_type": "markdown",
   "id": "5f3ec1d4-9e11-4469-b362-8dfc163bb308",
   "metadata": {},
   "source": [
    "Removing null values"
   ]
  },
  {
   "cell_type": "code",
   "execution_count": 8,
   "id": "247bedaa-53f5-4bb9-b241-9d3ec0093333",
   "metadata": {
    "tags": []
   },
   "outputs": [
    {
     "data": {
      "text/plain": [
       "TV           0\n",
       "Radio        0\n",
       "Newspaper    0\n",
       "Sales        0\n",
       "dtype: int64"
      ]
     },
     "execution_count": 8,
     "metadata": {},
     "output_type": "execute_result"
    }
   ],
   "source": [
    "data_adv.isnull().sum()"
   ]
  },
  {
   "cell_type": "markdown",
   "id": "e1c88a01-82c0-48d4-9118-b068dc6ab057",
   "metadata": {},
   "source": [
    "No null values!"
   ]
  },
  {
   "cell_type": "code",
   "execution_count": 9,
   "id": "ffbf13d2-5e01-487e-b16d-b0924a1b0c6f",
   "metadata": {
    "tags": []
   },
   "outputs": [
    {
     "name": "stderr",
     "output_type": "stream",
     "text": [
      "C:\\Users\\dvkin\\anaconda3\\Lib\\site-packages\\seaborn\\axisgrid.py:118: UserWarning: The figure layout has changed to tight\n",
      "  self._figure.tight_layout(*args, **kwargs)\n"
     ]
    },
    {
     "data": {
      "text/plain": [
       "<seaborn.axisgrid.PairGrid at 0x25e957e7390>"
      ]
     },
     "execution_count": 9,
     "metadata": {},
     "output_type": "execute_result"
    },
    {
     "data": {
      "image/png": "[encoded data removed]",
      "text/plain": [
       "<Figure size 750x250 with 3 Axes>"
      ]
     },
     "metadata": {},
     "output_type": "display_data"
    }
   ],
   "source": [
    "sns.pairplot(data_adv,x_vars=['TV','Radio','Newspaper'],y_vars='Sales',kind='scatter')"
   ]
  },
  {
   "cell_type": "markdown",
   "id": "314d0601-0f14-4c79-9bd0-c340556a3be2",
   "metadata": {
    "tags": []
   },
   "source": [
    "Observation\n",
    "-----------------\n",
    "When advertising cost increases in TV Ads the sales will increase as well. For Radio and Newspaper it is a bit unpredictable.\n",
    "Sales is highly corelated with TV."
   ]
  },
  {
   "cell_type": "markdown",
   "id": "39d5ffe1-5d11-42a7-8a7d-8889234e61c7",
   "metadata": {
    "tags": []
   },
   "source": [
    "Split the data into train and test\n",
    "-----------------------------------"
   ]
  },
  {
   "cell_type": "code",
   "execution_count": 10,
   "id": "972bd9c1-aa27-4039-9211-81983838e690",
   "metadata": {
    "tags": []
   },
   "outputs": [],
   "source": [
    "X=data_adv[['TV']]\n",
    "Y=data_adv[['Sales']]"
   ]
  },
  {
   "cell_type": "code",
   "execution_count": 11,
   "id": "1f4784e7-538f-4c29-8171-ae44bf5170ed",
   "metadata": {
    "tags": []
   },
   "outputs": [],
   "source": [
    "from sklearn.model_selection import train_test_split"
   ]
  },
  {
   "cell_type": "code",
   "execution_count": 12,
   "id": "913eec70-b579-4f09-bf1c-5d2690263389",
   "metadata": {
    "tags": []
   },
   "outputs": [],
   "source": [
    "X_train,X_test,Y_train,Y_test=train_test_split(X, Y, test_size=0.2, random_state=2)"
   ]
  },
  {
   "cell_type": "code",
   "execution_count": 13,
   "id": "66198784-9c10-4333-b8aa-86f388b6fd2a",
   "metadata": {
    "tags": []
   },
   "outputs": [
    {
     "name": "stdout",
     "output_type": "stream",
     "text": [
      "        TV\n",
      "137  273.7\n",
      "163  163.5\n",
      "111  241.7\n",
      "123  123.1\n",
      "109  255.4\n",
      "..     ...\n",
      "43   206.9\n",
      "22    13.2\n",
      "72    26.8\n",
      "15   195.4\n",
      "168  215.4\n",
      "\n",
      "[160 rows x 1 columns]\n"
     ]
    }
   ],
   "source": [
    "print(X_train)"
   ]
  },
  {
   "cell_type": "code",
   "execution_count": 14,
   "id": "f233793f-ffc2-4529-ae9c-0ad28429d651",
   "metadata": {
    "tags": []
   },
   "outputs": [
    {
     "name": "stdout",
     "output_type": "stream",
     "text": [
      "     Sales\n",
      "137   20.8\n",
      "163   18.0\n",
      "111   21.8\n",
      "123   15.2\n",
      "109   19.8\n",
      "..     ...\n",
      "43    17.9\n",
      "22     5.6\n",
      "72     8.8\n",
      "15    22.4\n",
      "168   17.1\n",
      "\n",
      "[160 rows x 1 columns]\n"
     ]
    }
   ],
   "source": [
    "print(Y_train)"
   ]
  },
  {
   "cell_type": "code",
   "execution_count": 15,
   "id": "9672606c-f305-4da4-a58f-ab36700599ed",
   "metadata": {
    "tags": []
   },
   "outputs": [
    {
     "name": "stdout",
     "output_type": "stream",
     "text": [
      "        TV\n",
      "112  175.7\n",
      "29    70.6\n",
      "182   56.2\n",
      "199  232.1\n",
      "193  166.8\n",
      "85   193.2\n",
      "10    66.1\n",
      "54   262.7\n",
      "115   75.1\n",
      "35   290.7\n",
      "12    23.8\n",
      "92   217.7\n",
      "13    97.5\n",
      "126    7.8\n",
      "174  222.4\n",
      "2     17.2\n",
      "44    25.1\n",
      "3    151.5\n",
      "113  209.6\n",
      "14   204.1\n",
      "23   228.3\n",
      "25   262.9\n",
      "6     57.5\n",
      "134   36.9\n",
      "165  234.5\n",
      "173  168.4\n",
      "45   175.1\n",
      "65    69.0\n",
      "48   227.2\n",
      "122  224.0\n",
      "178  276.7\n",
      "64   131.1\n",
      "9    199.8\n",
      "57   136.2\n",
      "78     5.4\n",
      "71   109.8\n",
      "128  220.3\n",
      "176  248.4\n",
      "131  265.2\n",
      "53   182.6\n"
     ]
    }
   ],
   "source": [
    "print(X_test)"
   ]
  },
  {
   "cell_type": "code",
   "execution_count": 16,
   "id": "b54f2207-a0c2-4d32-a2f0-e0b5a3779195",
   "metadata": {
    "tags": []
   },
   "outputs": [
    {
     "name": "stdout",
     "output_type": "stream",
     "text": [
      "     Sales\n",
      "112   17.1\n",
      "29    10.5\n",
      "182    8.7\n",
      "199   18.4\n",
      "193   19.6\n",
      "85    20.2\n",
      "10    12.6\n",
      "54    20.2\n",
      "115   12.6\n",
      "35    17.8\n",
      "12     9.2\n",
      "92    19.4\n",
      "13    13.7\n",
      "126    6.6\n",
      "174   16.5\n",
      "2     12.0\n",
      "44     8.5\n",
      "3     16.5\n",
      "113   20.9\n",
      "14    19.0\n",
      "23    20.5\n",
      "25    17.0\n",
      "6     11.8\n",
      "134   10.8\n",
      "165   16.9\n",
      "173   16.7\n",
      "45    16.1\n",
      "65    11.3\n",
      "48    19.8\n",
      "122   16.6\n",
      "178   16.8\n",
      "64    16.0\n",
      "9     15.6\n",
      "57    13.2\n",
      "78     5.3\n",
      "71    12.4\n",
      "128   24.7\n",
      "176   20.2\n",
      "131   17.7\n",
      "53    21.2\n"
     ]
    }
   ],
   "source": [
    "print(Y_test)"
   ]
  },
  {
   "cell_type": "code",
   "execution_count": 17,
   "id": "0152c8d0-6de9-4d8a-a4fb-ea31c03dd92c",
   "metadata": {
    "tags": []
   },
   "outputs": [],
   "source": [
    "from sklearn.linear_model import LinearRegression"
   ]
  },
  {
   "cell_type": "code",
   "execution_count": 18,
   "id": "e763f783-ac5c-4135-9dcd-a8254c2b26d6",
   "metadata": {
    "tags": []
   },
   "outputs": [],
   "source": [
    "log=LinearRegression()"
   ]
  },
  {
   "cell_type": "code",
   "execution_count": 19,
   "id": "169c6479-59f0-4809-a463-221762377233",
   "metadata": {
    "tags": []
   },
   "outputs": [
    {
     "data": {
      "text/html": [
       "<style>#sk-container-id-1 {color: black;}#sk-container-id-1 pre{padding: 0;}#sk-container-id-1 div.sk-toggleable {background-color: white;}#sk-container-id-1 label.sk-toggleable__label {cursor: pointer;display: block;width: 100%;margin-bottom: 0;padding: 0.3em;box-sizing: border-box;text-align: center;}#sk-container-id-1 label.sk-toggleable__label-arrow:before {content: \"▸\";float: left;margin-right: 0.25em;color: #696969;}#sk-container-id-1 label.sk-toggleable__label-arrow:hover:before {color: black;}#sk-container-id-1 div.sk-estimator:hover label.sk-toggleable__label-arrow:before {color: black;}#sk-container-id-1 div.sk-toggleable__content {max-height: 0;max-width: 0;overflow: hidden;text-align: left;background-color: #f0f8ff;}#sk-container-id-1 div.sk-toggleable__content pre {margin: 0.2em;color: black;border-radius: 0.25em;background-color: #f0f8ff;}#sk-container-id-1 input.sk-toggleable__control:checked~div.sk-toggleable__content {max-height: 200px;max-width: 100%;overflow: auto;}#sk-container-id-1 input.sk-toggleable__control:checked~label.sk-toggleable__label-arrow:before {content: \"▾\";}#sk-container-id-1 div.sk-estimator input.sk-toggleable__control:checked~label.sk-toggleable__label {background-color: #d4ebff;}#sk-container-id-1 div.sk-label input.sk-toggleable__control:checked~label.sk-toggleable__label {background-color: #d4ebff;}#sk-container-id-1 input.sk-hidden--visually {border: 0;clip: rect(1px 1px 1px 1px);clip: rect(1px, 1px, 1px, 1px);height: 1px;margin: -1px;overflow: hidden;padding: 0;position: absolute;width: 1px;}#sk-container-id-1 div.sk-estimator {font-family: monospace;background-color: #f0f8ff;border: 1px dotted black;border-radius: 0.25em;box-sizing: border-box;margin-bottom: 0.5em;}#sk-container-id-1 div.sk-estimator:hover {background-color: #d4ebff;}#sk-container-id-1 div.sk-parallel-item::after {content: \"\";width: 100%;border-bottom: 1px solid gray;flex-grow: 1;}#sk-container-id-1 div.sk-label:hover label.sk-toggleable__label {background-color: #d4ebff;}#sk-container-id-1 div.sk-serial::before {content: \"\";position: absolute;border-left: 1px solid gray;box-sizing: border-box;top: 0;bottom: 0;left: 50%;z-index: 0;}#sk-container-id-1 div.sk-serial {display: flex;flex-direction: column;align-items: center;background-color: white;padding-right: 0.2em;padding-left: 0.2em;position: relative;}#sk-container-id-1 div.sk-item {position: relative;z-index: 1;}#sk-container-id-1 div.sk-parallel {display: flex;align-items: stretch;justify-content: center;background-color: white;position: relative;}#sk-container-id-1 div.sk-item::before, #sk-container-id-1 div.sk-parallel-item::before {content: \"\";position: absolute;border-left: 1px solid gray;box-sizing: border-box;top: 0;bottom: 0;left: 50%;z-index: -1;}#sk-container-id-1 div.sk-parallel-item {display: flex;flex-direction: column;z-index: 1;position: relative;background-color: white;}#sk-container-id-1 div.sk-parallel-item:first-child::after {align-self: flex-end;width: 50%;}#sk-container-id-1 div.sk-parallel-item:last-child::after {align-self: flex-start;width: 50%;}#sk-container-id-1 div.sk-parallel-item:only-child::after {width: 0;}#sk-container-id-1 div.sk-dashed-wrapped {border: 1px dashed gray;margin: 0 0.4em 0.5em 0.4em;box-sizing: border-box;padding-bottom: 0.4em;background-color: white;}#sk-container-id-1 div.sk-label label {font-family: monospace;font-weight: bold;display: inline-block;line-height: 1.2em;}#sk-container-id-1 div.sk-label-container {text-align: center;}#sk-container-id-1 div.sk-container {/* jupyter's `normalize.less` sets `[hidden] { display: none; }` but bootstrap.min.css set `[hidden] { display: none !important; }` so we also need the `!important` here to be able to override the default hidden behavior on the sphinx rendered scikit-learn.org. See: https://github.com/scikit-learn/scikit-learn/issues/21755 */display: inline-block !important;position: relative;}#sk-container-id-1 div.sk-text-repr-fallback {display: none;}</style><div id=\"sk-container-id-1\" class=\"sk-top-container\"><div class=\"sk-text-repr-fallback\"><pre>LinearRegression()</pre><b>In a Jupyter environment, please rerun this cell to show the HTML representation or trust the notebook. <br />On GitHub, the HTML representation is unable to render, please try loading this page with nbviewer.org.</b></div><div class=\"sk-container\" hidden><div class=\"sk-item\"><div class=\"sk-estimator sk-toggleable\"><input class=\"sk-toggleable__control sk-hidden--visually\" id=\"sk-estimator-id-1\" type=\"checkbox\" checked><label for=\"sk-estimator-id-1\" class=\"sk-toggleable__label sk-toggleable__label-arrow\">LinearRegression</label><div class=\"sk-toggleable__content\"><pre>LinearRegression()</pre></div></div></div></div></div>"
      ],
      "text/plain": [
       "LinearRegression()"
      ]
     },
     "execution_count": 19,
     "metadata": {},
     "output_type": "execute_result"
    }
   ],
   "source": [
    "log.fit(X_train,Y_train)"
   ]
  },
  {
   "cell_type": "markdown",
   "id": "ce5bd3dd-cd58-4d6c-a5e9-e2cd4c08faa4",
   "metadata": {
    "tags": []
   },
   "source": [
    "Model Prediction\n",
    "----------------"
   ]
  },
  {
   "cell_type": "code",
   "execution_count": 20,
   "id": "9c4b29cc-99e1-46f8-a956-034ef94ab361",
   "metadata": {
    "tags": []
   },
   "outputs": [],
   "source": [
    "x_train_prediction=log.predict(X_train)"
   ]
  },
  {
   "cell_type": "code",
   "execution_count": 21,
   "id": "a67b2b51-70b7-48c9-8c93-6e7b1717e650",
   "metadata": {
    "tags": []
   },
   "outputs": [
    {
     "name": "stdout",
     "output_type": "stream",
     "text": [
      "[[22.55472777]\n",
      " [16.12060723]\n",
      " [20.68638061]\n",
      " [13.76181893]\n",
      " [21.48626674]\n",
      " [17.88385986]\n",
      " [16.90881619]\n",
      " [ 6.61539103]\n",
      " [10.86004224]\n",
      " [ 7.08247782]\n",
      " [14.26393723]\n",
      " [19.55953373]\n",
      " [19.10996269]\n",
      " [17.73205666]\n",
      " [10.21195932]\n",
      " [12.98528714]\n",
      " [ 8.41367517]\n",
      " [ 7.07663923]\n",
      " [ 7.71888357]\n",
      " [22.74156249]\n",
      " [21.10092014]\n",
      " [19.40773052]\n",
      " [12.8451611 ]\n",
      " [23.71660617]\n",
      " [23.17361777]\n",
      " [10.97097536]\n",
      " [21.39284938]\n",
      " [ 8.03416716]\n",
      " [ 7.33937555]\n",
      " [12.68168073]\n",
      " [15.71774487]\n",
      " [ 7.61962763]\n",
      " [20.59296325]\n",
      " [13.34727941]\n",
      " [ 9.17269121]\n",
      " [ 7.7072064 ]\n",
      " [ 7.57875754]\n",
      " [ 9.18436838]\n",
      " [16.64607987]\n",
      " [23.27287372]\n",
      " [20.77395938]\n",
      " [22.157704  ]\n",
      " [16.17899308]\n",
      " [16.24321751]\n",
      " [20.54625457]\n",
      " [20.00910476]\n",
      " [20.59296325]\n",
      " [15.3207211 ]\n",
      " [23.48890136]\n",
      " [13.91362214]\n",
      " [19.32599033]\n",
      " [ 7.25763537]\n",
      " [12.05695214]\n",
      " [19.44860061]\n",
      " [13.61001573]\n",
      " [23.67573607]\n",
      " [17.53938336]\n",
      " [23.00429881]\n",
      " [18.87641929]\n",
      " [19.33182892]\n",
      " [11.14029432]\n",
      " [11.25706602]\n",
      " [17.37006439]\n",
      " [10.98265253]\n",
      " [21.22353042]\n",
      " [13.63920865]\n",
      " [20.43532146]\n",
      " [18.18746628]\n",
      " [10.53308149]\n",
      " [18.11156467]\n",
      " [ 8.24435621]\n",
      " [14.4682877 ]\n",
      " [14.82444138]\n",
      " [16.90881619]\n",
      " [19.03406109]\n",
      " [ 8.88076197]\n",
      " [11.57818818]\n",
      " [12.1912396 ]\n",
      " [12.0744679 ]\n",
      " [13.03783441]\n",
      " [14.41574044]\n",
      " [19.03989967]\n",
      " [10.61482168]\n",
      " [17.37006439]\n",
      " [23.88008654]\n",
      " [11.66576696]\n",
      " [13.41734242]\n",
      " [ 9.39455744]\n",
      " [21.83074325]\n",
      " [20.5754475 ]\n",
      " [20.43532146]\n",
      " [10.05431753]\n",
      " [ 7.00073763]\n",
      " [15.17475648]\n",
      " [11.0293612 ]\n",
      " [18.19914345]\n",
      " [ 9.69816385]\n",
      " [12.16204667]\n",
      " [18.39765533]\n",
      " [ 9.08511244]\n",
      " [ 8.18013178]\n",
      " [16.57601685]\n",
      " [14.91785874]\n",
      " [12.24962545]\n",
      " [ 8.80486036]\n",
      " [18.11156467]\n",
      " [10.568113  ]\n",
      " [19.75804561]\n",
      " [14.6259295 ]\n",
      " [14.12964978]\n",
      " [11.03519979]\n",
      " [22.96342872]\n",
      " [14.76605553]\n",
      " [ 6.81390291]\n",
      " [23.13274768]\n",
      " [ 8.06919867]\n",
      " [19.88649448]\n",
      " [10.48053422]\n",
      " [14.71934685]\n",
      " [ 7.06496206]\n",
      " [18.24001354]\n",
      " [19.20921863]\n",
      " [11.03519979]\n",
      " [18.54361996]\n",
      " [ 7.67217489]\n",
      " [ 7.66633631]\n",
      " [11.81173158]\n",
      " [11.72999139]\n",
      " [19.23257297]\n",
      " [14.70766968]\n",
      " [23.36629107]\n",
      " [18.88225788]\n",
      " [22.0818024 ]\n",
      " [ 9.09095102]\n",
      " [17.54522194]\n",
      " [12.43646016]\n",
      " [11.85260167]\n",
      " [ 9.49381338]\n",
      " [17.13068241]\n",
      " [22.93423579]\n",
      " [18.64871448]\n",
      " [10.93594385]\n",
      " [14.7018311 ]\n",
      " [19.97407325]\n",
      " [ 8.79318319]\n",
      " [13.16628327]\n",
      " [12.57074762]\n",
      " [20.58128608]\n",
      " [15.31488251]\n",
      " [16.10893006]\n",
      " [16.51179241]\n",
      " [17.57441486]\n",
      " [13.59249997]\n",
      " [20.48203014]\n",
      " [ 7.56124178]\n",
      " [18.65455307]\n",
      " [ 7.34521414]\n",
      " [ 8.13926168]\n",
      " [17.98311581]\n",
      " [19.15083278]]\n"
     ]
    }
   ],
   "source": [
    "print(x_train_prediction)"
   ]
  },
  {
   "cell_type": "code",
   "execution_count": 22,
   "id": "f4fa73df-48f6-4d7d-9837-8e8572437211",
   "metadata": {
    "tags": []
   },
   "outputs": [],
   "source": [
    "x_test_prediction=log.predict(X_test)"
   ]
  },
  {
   "cell_type": "code",
   "execution_count": 23,
   "id": "a482404b-77da-4b58-99e9-7e6a68692b40",
   "metadata": {
    "tags": []
   },
   "outputs": [
    {
     "name": "stdout",
     "output_type": "stream",
     "text": [
      "[[16.83291458]\n",
      " [10.69656187]\n",
      " [ 9.85580564]\n",
      " [20.12587646]\n",
      " [16.31328053]\n",
      " [17.85466694]\n",
      " [10.43382555]\n",
      " [21.91248344]\n",
      " [10.95929819]\n",
      " [23.54728721]\n",
      " [ 7.96410414]\n",
      " [19.28512024]\n",
      " [12.2671412 ]\n",
      " [ 7.02993056]\n",
      " [19.55953373]\n",
      " [ 7.57875754]\n",
      " [ 8.04000574]\n",
      " [15.41997704]\n",
      " [18.81219486]\n",
      " [18.49107269]\n",
      " [19.90401024]\n",
      " [21.92416061]\n",
      " [ 9.93170725]\n",
      " [ 8.72895876]\n",
      " [20.2660025 ]\n",
      " [16.40669789]\n",
      " [16.79788307]\n",
      " [10.60314451]\n",
      " [19.8397858 ]\n",
      " [19.65295109]\n",
      " [22.72988532]\n",
      " [14.22890572]\n",
      " [18.24001354]\n",
      " [14.52667355]\n",
      " [ 6.88980452]\n",
      " [12.98528714]\n",
      " [19.43692344]\n",
      " [21.0775658 ]\n",
      " [22.05844806]\n",
      " [17.23577694]]\n"
     ]
    }
   ],
   "source": [
    "print(x_test_prediction)"
   ]
  },
  {
   "cell_type": "code",
   "execution_count": 24,
   "id": "0f4ef24e-4a60-46cd-949d-f46d2f8a6db3",
   "metadata": {
    "tags": []
   },
   "outputs": [
    {
     "name": "stdout",
     "output_type": "stream",
     "text": [
      "     Sales\n",
      "137   20.8\n",
      "163   18.0\n",
      "111   21.8\n",
      "123   15.2\n",
      "109   19.8\n",
      "..     ...\n",
      "43    17.9\n",
      "22     5.6\n",
      "72     8.8\n",
      "15    22.4\n",
      "168   17.1\n",
      "\n",
      "[160 rows x 1 columns]\n"
     ]
    }
   ],
   "source": [
    "print(Y_train)"
   ]
  },
  {
   "cell_type": "code",
   "execution_count": 25,
   "id": "a71346c6-bcc2-4c22-a037-7f70957a6cce",
   "metadata": {
    "tags": []
   },
   "outputs": [
    {
     "name": "stdout",
     "output_type": "stream",
     "text": [
      "     Sales\n",
      "112   17.1\n",
      "29    10.5\n",
      "182    8.7\n",
      "199   18.4\n",
      "193   19.6\n",
      "85    20.2\n",
      "10    12.6\n",
      "54    20.2\n",
      "115   12.6\n",
      "35    17.8\n",
      "12     9.2\n",
      "92    19.4\n",
      "13    13.7\n",
      "126    6.6\n",
      "174   16.5\n",
      "2     12.0\n",
      "44     8.5\n",
      "3     16.5\n",
      "113   20.9\n",
      "14    19.0\n",
      "23    20.5\n",
      "25    17.0\n",
      "6     11.8\n",
      "134   10.8\n",
      "165   16.9\n",
      "173   16.7\n",
      "45    16.1\n",
      "65    11.3\n",
      "48    19.8\n",
      "122   16.6\n",
      "178   16.8\n",
      "64    16.0\n",
      "9     15.6\n",
      "57    13.2\n",
      "78     5.3\n",
      "71    12.4\n",
      "128   24.7\n",
      "176   20.2\n",
      "131   17.7\n",
      "53    21.2\n"
     ]
    }
   ],
   "source": [
    "print(Y_test)"
   ]
  },
  {
   "cell_type": "code",
   "execution_count": 26,
   "id": "5e96d8e2-4aaa-4e74-9220-ce3169d83d67",
   "metadata": {
    "tags": []
   },
   "outputs": [
    {
     "data": {
      "text/plain": [
       "array([[0.05838585]])"
      ]
     },
     "execution_count": 26,
     "metadata": {},
     "output_type": "execute_result"
    }
   ],
   "source": [
    "log.coef_"
   ]
  },
  {
   "cell_type": "code",
   "execution_count": 27,
   "id": "71d51581-2623-4b35-9967-0b538ee4e772",
   "metadata": {
    "tags": []
   },
   "outputs": [
    {
     "data": {
      "text/plain": [
       "array([6.57452093])"
      ]
     },
     "execution_count": 27,
     "metadata": {},
     "output_type": "execute_result"
    }
   ],
   "source": [
    "log.intercept_"
   ]
  },
  {
   "cell_type": "code",
   "execution_count": 28,
   "id": "7831d95c-ab83-4945-b5c5-32f42e363fb0",
   "metadata": {
    "tags": []
   },
   "outputs": [
    {
     "data": {
      "text/plain": [
       "16.832914775"
      ]
     },
     "execution_count": 28,
     "metadata": {},
     "output_type": "execute_result"
    }
   ],
   "source": [
    "0.05838585*175.7+6.57452093"
   ]
  },
  {
   "cell_type": "code",
   "execution_count": 29,
   "id": "5b6b90c8-9013-43f0-99de-f8fdcb1bc168",
   "metadata": {
    "tags": []
   },
   "outputs": [
    {
     "data": {
      "text/plain": [
       "[<matplotlib.lines.Line2D at 0x25e966fcd90>]"
      ]
     },
     "execution_count": 29,
     "metadata": {},
     "output_type": "execute_result"
    },
    {
     "data": {
      "image/png": "[encoded data removed]",
      "text/plain": [
       "<Figure size 640x480 with 1 Axes>"
      ]
     },
     "metadata": {},
     "output_type": "display_data"
    }
   ],
   "source": [
    "plt.plot(x_test_prediction)"
   ]
  },
  {
   "cell_type": "code",
   "execution_count": null,
   "id": "2392e19e-8787-43be-b457-7e0fbc49d328",
   "metadata": {},
   "outputs": [],
   "source": []
  }
 ],
 "metadata": {
  "kernelspec": {
   "display_name": "Python 3 (ipykernel)",
   "language": "python",
   "name": "python3"
  },
  "language_info": {
   "codemirror_mode": {
    "name": "ipython",
    "version": 3
   },
   "file_extension": ".py",
   "mimetype": "text/x-python",
   "name": "python",
   "nbconvert_exporter": "python",
   "pygments_lexer": "ipython3",
   "version": "3.11.5"
  }
 },
 "nbformat": 4,
 "nbformat_minor": 5
}
